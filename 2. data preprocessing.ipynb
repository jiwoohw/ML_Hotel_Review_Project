{
 "cells": [
  {
   "attachments": {},
   "cell_type": "markdown",
   "metadata": {},
   "source": [
    "# 전처리"
   ]
  },
  {
   "cell_type": "code",
   "execution_count": 13,
   "metadata": {},
   "outputs": [
    {
     "data": {
      "text/html": [
       "<div>\n",
       "<style scoped>\n",
       "    .dataframe tbody tr th:only-of-type {\n",
       "        vertical-align: middle;\n",
       "    }\n",
       "\n",
       "    .dataframe tbody tr th {\n",
       "        vertical-align: top;\n",
       "    }\n",
       "\n",
       "    .dataframe thead th {\n",
       "        text-align: right;\n",
       "    }\n",
       "</style>\n",
       "<table border=\"1\" class=\"dataframe\">\n",
       "  <thead>\n",
       "    <tr style=\"text-align: right;\">\n",
       "      <th></th>\n",
       "      <th>Hotel</th>\n",
       "      <th>Point</th>\n",
       "      <th>Country</th>\n",
       "      <th>member</th>\n",
       "      <th>Room type</th>\n",
       "      <th>Date</th>\n",
       "      <th>Review Title</th>\n",
       "      <th>Review Contents</th>\n",
       "      <th>Grade</th>\n",
       "    </tr>\n",
       "  </thead>\n",
       "  <tbody>\n",
       "    <tr>\n",
       "      <th>36257</th>\n",
       "      <td>골든 파크 호텔 제주 (Golden Park Hotel Jeju)</td>\n",
       "      <td>8.0</td>\n",
       "      <td>Lee (대한민국)</td>\n",
       "      <td>나홀로 여행객</td>\n",
       "      <td>룸 (싱글베드 2개, 금연)</td>\n",
       "      <td>2022년 12월 | 2박</td>\n",
       "      <td>가성비 좋은 호텔</td>\n",
       "      <td>['전반적으로 깨끗하고 뚜벅이 여행에 최고좋은 시외버스터미널이 걸어서 5분이라 제주...</td>\n",
       "      <td>1</td>\n",
       "    </tr>\n",
       "  </tbody>\n",
       "</table>\n",
       "</div>"
      ],
      "text/plain": [
       "                                      Hotel Point     Country   member  \\\n",
       "36257  골든 파크 호텔 제주 (Golden Park Hotel Jeju)   8.0  Lee (대한민국)  나홀로 여행객   \n",
       "\n",
       "             Room type            Date Review Title  \\\n",
       "36257  룸 (싱글베드 2개, 금연)  2022년 12월 | 2박    가성비 좋은 호텔   \n",
       "\n",
       "                                         Review Contents  Grade  \n",
       "36257  ['전반적으로 깨끗하고 뚜벅이 여행에 최고좋은 시외버스터미널이 걸어서 5분이라 제주...      1  "
      ]
     },
     "execution_count": 13,
     "metadata": {},
     "output_type": "execute_result"
    }
   ],
   "source": [
    "import pandas as pd\n",
    "\n",
    "df=pd.read_csv('./../csv/hotel_all.csv')\n",
    "df.drop(['Unnamed: 0'], axis = 1, inplace = True)\n",
    "df.drop(['Unnamed: 0.1'], axis = 1, inplace = True)\n",
    "df.tail(1)"
   ]
  },
  {
   "cell_type": "code",
   "execution_count": 14,
   "metadata": {},
   "outputs": [
    {
     "data": {
      "text/plain": [
       "Hotel              0\n",
       "Point              0\n",
       "Country            1\n",
       "member             0\n",
       "Room type          0\n",
       "Date               0\n",
       "Review Title       4\n",
       "Review Contents    0\n",
       "Grade              0\n",
       "dtype: int64"
      ]
     },
     "execution_count": 14,
     "metadata": {},
     "output_type": "execute_result"
    }
   ],
   "source": [
    "# 결측치 확인\n",
    "\n",
    "df.isnull().sum()"
   ]
  },
  {
   "cell_type": "code",
   "execution_count": 15,
   "metadata": {},
   "outputs": [],
   "source": [
    "df['Review Title']=df['Review Title'].fillna('제목없음') # 제목 결측치 -> 제목없음\n",
    "df['Country']=df['Country'].fillna('(대한민국)') # 결측치 국적 확인 후, 해당 국적으로 변경\n"
   ]
  },
  {
   "cell_type": "code",
   "execution_count": 17,
   "metadata": {},
   "outputs": [
    {
     "data": {
      "text/plain": [
       "array(['나홀로 여행객', '커플/2인 여행객', '유아/아동 동반 가족 여행객', '그룹 여행객', '출장 여행객',\n",
       "       '청소년 동반 가족 여행객', '디럭스 더블', '싱글 스탠다드룸'], dtype=object)"
      ]
     },
     "execution_count": 17,
     "metadata": {},
     "output_type": "execute_result"
    }
   ],
   "source": [
    "df['member'].unique() # 맴버 확인\n",
    "\n"
   ]
  },
  {
   "cell_type": "code",
   "execution_count": 18,
   "metadata": {},
   "outputs": [],
   "source": [
    "# '디럭스 더블', '싱글 스탠다드룸' 삭제\n",
    "\n",
    "df=df.drop(index=df.loc[df.member == '싱글 스탠다드룸'].index)\n",
    "df=df.drop(index=df.loc[df.member == '디럭스 더블'].index)"
   ]
  },
  {
   "cell_type": "code",
   "execution_count": 19,
   "metadata": {},
   "outputs": [
    {
     "data": {
      "text/plain": [
       "array(['10.0', '10.0 최고', '9.6', '9.2', '8.8', '8.4', '9.2 최고', '9.6 최고',\n",
       "       '8.0', '7.6 매우 좋음', '8.4 우수', '7.2', '8.0 우수', '7.6', '7.2 좋음',\n",
       "       '6.8', '6.8 양호', '6.4', '6.0', '5.6', '4.8', '5.2', '6.4 양호',\n",
       "       '4.4', '4.0', '3.2', '3.6', '2.8', '2.0', '8.7 우수', '8.7', '2.4',\n",
       "       '8.8 우수', '9.0', '4.3', '8.3', '7.0', '9.3', '7.3', '6.3',\n",
       "       '9.3 최고', '6.7 양호', '9.7 최고', '7.0 좋음', '3.7', '7.7 매우 좋음', '7.7',\n",
       "       '2.3', '9.0 최고', '5.0', '9.7', '6.3 양호', '4.7', '6.7', '5.3',\n",
       "       '3.0', '5.7', '8.3 우수', '7.3 좋음', '2.7', '9.5', '3.3', '9.5 최고',\n",
       "       '5.5', '7.5'], dtype=object)"
      ]
     },
     "execution_count": 19,
     "metadata": {},
     "output_type": "execute_result"
    }
   ],
   "source": [
    "df['Point'].unique()"
   ]
  },
  {
   "cell_type": "code",
   "execution_count": 21,
   "metadata": {},
   "outputs": [],
   "source": [
    "#point 숫자만 가져와서 float형으로 변경 ex) 6.3 양호\n",
    "\n",
    "df['Point']=df['Point'].str.split(' ').str[0]\n",
    "df['Point']=df['Point'].astype('float')"
   ]
  },
  {
   "cell_type": "code",
   "execution_count": 23,
   "metadata": {},
   "outputs": [
    {
     "data": {
      "text/html": [
       "<div>\n",
       "<style scoped>\n",
       "    .dataframe tbody tr th:only-of-type {\n",
       "        vertical-align: middle;\n",
       "    }\n",
       "\n",
       "    .dataframe tbody tr th {\n",
       "        vertical-align: top;\n",
       "    }\n",
       "\n",
       "    .dataframe thead th {\n",
       "        text-align: right;\n",
       "    }\n",
       "</style>\n",
       "<table border=\"1\" class=\"dataframe\">\n",
       "  <thead>\n",
       "    <tr style=\"text-align: right;\">\n",
       "      <th></th>\n",
       "      <th>Hotel</th>\n",
       "      <th>Point</th>\n",
       "      <th>Country</th>\n",
       "      <th>member</th>\n",
       "      <th>Room type</th>\n",
       "      <th>Date</th>\n",
       "      <th>Review Title</th>\n",
       "      <th>Review Contents</th>\n",
       "      <th>Grade</th>\n",
       "      <th>Year</th>\n",
       "      <th>Month</th>\n",
       "    </tr>\n",
       "  </thead>\n",
       "  <tbody>\n",
       "    <tr>\n",
       "      <th>0</th>\n",
       "      <td>메종 글래드 제주 (Maison Glad Jeju)</td>\n",
       "      <td>10.0</td>\n",
       "      <td>Seung-hye (대한민국)</td>\n",
       "      <td>나홀로 여행객</td>\n",
       "      <td>스탠다드 트윈</td>\n",
       "      <td>2021년 5월 | 3박</td>\n",
       "      <td>기대보다 좋았어요</td>\n",
       "      <td>['시설이 낡았다는 후기를 보고 별 기대없이 갔는데 3박동안 행복하게 보내고 왔습니...</td>\n",
       "      <td>5</td>\n",
       "      <td>2021년</td>\n",
       "      <td>5월</td>\n",
       "    </tr>\n",
       "  </tbody>\n",
       "</table>\n",
       "</div>"
      ],
      "text/plain": [
       "                          Hotel  Point           Country   member Room type  \\\n",
       "0  메종 글래드 제주 (Maison Glad Jeju)   10.0  Seung-hye (대한민국)  나홀로 여행객   스탠다드 트윈   \n",
       "\n",
       "            Date Review Title  \\\n",
       "0  2021년 5월 | 3박    기대보다 좋았어요   \n",
       "\n",
       "                                     Review Contents  Grade   Year Month  \n",
       "0  ['시설이 낡았다는 후기를 보고 별 기대없이 갔는데 3박동안 행복하게 보내고 왔습니...      5  2021년    5월  "
      ]
     },
     "execution_count": 23,
     "metadata": {},
     "output_type": "execute_result"
    }
   ],
   "source": [
    "# 날짜에서 년, 월 분리\n",
    "\n",
    "df['Year']=df['Date'].str.split(' ').str[0]\n",
    "df['Month']=df['Date'].str.split(' ').str[1]\n",
    "\n",
    "df.head(1)"
   ]
  },
  {
   "cell_type": "code",
   "execution_count": 24,
   "metadata": {},
   "outputs": [
    {
     "data": {
      "text/html": [
       "<div>\n",
       "<style scoped>\n",
       "    .dataframe tbody tr th:only-of-type {\n",
       "        vertical-align: middle;\n",
       "    }\n",
       "\n",
       "    .dataframe tbody tr th {\n",
       "        vertical-align: top;\n",
       "    }\n",
       "\n",
       "    .dataframe thead th {\n",
       "        text-align: right;\n",
       "    }\n",
       "</style>\n",
       "<table border=\"1\" class=\"dataframe\">\n",
       "  <thead>\n",
       "    <tr style=\"text-align: right;\">\n",
       "      <th></th>\n",
       "      <th>Hotel</th>\n",
       "      <th>Point</th>\n",
       "      <th>Country</th>\n",
       "      <th>member</th>\n",
       "      <th>Room type</th>\n",
       "      <th>Date</th>\n",
       "      <th>Review Title</th>\n",
       "      <th>Review Contents</th>\n",
       "      <th>Grade</th>\n",
       "      <th>Year</th>\n",
       "      <th>Month</th>\n",
       "      <th>stay_day</th>\n",
       "    </tr>\n",
       "  </thead>\n",
       "  <tbody>\n",
       "    <tr>\n",
       "      <th>0</th>\n",
       "      <td>메종 글래드 제주 (Maison Glad Jeju)</td>\n",
       "      <td>10.0</td>\n",
       "      <td>Seung-hye (대한민국)</td>\n",
       "      <td>나홀로 여행객</td>\n",
       "      <td>스탠다드 트윈</td>\n",
       "      <td>2021년 5월 | 3박</td>\n",
       "      <td>기대보다 좋았어요</td>\n",
       "      <td>['시설이 낡았다는 후기를 보고 별 기대없이 갔는데 3박동안 행복하게 보내고 왔습니...</td>\n",
       "      <td>5</td>\n",
       "      <td>2021년</td>\n",
       "      <td>5월</td>\n",
       "      <td>3</td>\n",
       "    </tr>\n",
       "  </tbody>\n",
       "</table>\n",
       "</div>"
      ],
      "text/plain": [
       "                          Hotel  Point           Country   member Room type  \\\n",
       "0  메종 글래드 제주 (Maison Glad Jeju)   10.0  Seung-hye (대한민국)  나홀로 여행객   스탠다드 트윈   \n",
       "\n",
       "            Date Review Title  \\\n",
       "0  2021년 5월 | 3박    기대보다 좋았어요   \n",
       "\n",
       "                                     Review Contents  Grade   Year Month  \\\n",
       "0  ['시설이 낡았다는 후기를 보고 별 기대없이 갔는데 3박동안 행복하게 보내고 왔습니...      5  2021년    5월   \n",
       "\n",
       "   stay_day  \n",
       "0         3  "
      ]
     },
     "execution_count": 24,
     "metadata": {},
     "output_type": "execute_result"
    }
   ],
   "source": [
    "# stay_day \n",
    "df['stay_day']=df['Date'].str.split(' ').str[3]\n",
    "df['stay_day']=df['stay_day'].str.extract(r'(\\d+)')  # 숫자만\n",
    "df['stay_day']=df['stay_day'].astype('int')\n",
    "\n",
    "df.head(1)"
   ]
  },
  {
   "cell_type": "code",
   "execution_count": 25,
   "metadata": {},
   "outputs": [
    {
     "data": {
      "text/html": [
       "<div>\n",
       "<style scoped>\n",
       "    .dataframe tbody tr th:only-of-type {\n",
       "        vertical-align: middle;\n",
       "    }\n",
       "\n",
       "    .dataframe tbody tr th {\n",
       "        vertical-align: top;\n",
       "    }\n",
       "\n",
       "    .dataframe thead th {\n",
       "        text-align: right;\n",
       "    }\n",
       "</style>\n",
       "<table border=\"1\" class=\"dataframe\">\n",
       "  <thead>\n",
       "    <tr style=\"text-align: right;\">\n",
       "      <th></th>\n",
       "      <th>Hotel</th>\n",
       "      <th>Point</th>\n",
       "      <th>Country</th>\n",
       "      <th>member</th>\n",
       "      <th>Room type</th>\n",
       "      <th>Date</th>\n",
       "      <th>Review Title</th>\n",
       "      <th>Review Contents</th>\n",
       "      <th>Grade</th>\n",
       "      <th>Year</th>\n",
       "      <th>Month</th>\n",
       "      <th>stay_day</th>\n",
       "    </tr>\n",
       "  </thead>\n",
       "  <tbody>\n",
       "    <tr>\n",
       "      <th>36255</th>\n",
       "      <td>골든 파크 호텔 제주 (Golden Park Hotel Jeju)</td>\n",
       "      <td>8.0</td>\n",
       "      <td>Lee (대한민국)</td>\n",
       "      <td>나홀로 여행객</td>\n",
       "      <td>룸 (싱글베드 2개, 금연)</td>\n",
       "      <td>2022년 12월 | 2박</td>\n",
       "      <td>가성비 좋은 호텔</td>\n",
       "      <td>['전반적으로 깨끗하고 뚜벅이 여행에 최고좋은 시외버스터미널이 걸어서 5분이라 제주...</td>\n",
       "      <td>1</td>\n",
       "      <td>2022년</td>\n",
       "      <td>12월</td>\n",
       "      <td>2</td>\n",
       "    </tr>\n",
       "  </tbody>\n",
       "</table>\n",
       "</div>"
      ],
      "text/plain": [
       "                                      Hotel  Point     Country   member  \\\n",
       "36255  골든 파크 호텔 제주 (Golden Park Hotel Jeju)    8.0  Lee (대한민국)  나홀로 여행객   \n",
       "\n",
       "             Room type            Date Review Title  \\\n",
       "36255  룸 (싱글베드 2개, 금연)  2022년 12월 | 2박    가성비 좋은 호텔   \n",
       "\n",
       "                                         Review Contents  Grade   Year Month  \\\n",
       "36255  ['전반적으로 깨끗하고 뚜벅이 여행에 최고좋은 시외버스터미널이 걸어서 5분이라 제주...      1  2022년   12월   \n",
       "\n",
       "       stay_day  \n",
       "36255         2  "
      ]
     },
     "execution_count": 25,
     "metadata": {},
     "output_type": "execute_result"
    }
   ],
   "source": [
    "df.reset_index(drop=True,inplace=True)\n",
    "df.tail(1)"
   ]
  },
  {
   "cell_type": "code",
   "execution_count": 27,
   "metadata": {},
   "outputs": [
    {
     "data": {
      "text/html": [
       "<div>\n",
       "<style scoped>\n",
       "    .dataframe tbody tr th:only-of-type {\n",
       "        vertical-align: middle;\n",
       "    }\n",
       "\n",
       "    .dataframe tbody tr th {\n",
       "        vertical-align: top;\n",
       "    }\n",
       "\n",
       "    .dataframe thead th {\n",
       "        text-align: right;\n",
       "    }\n",
       "</style>\n",
       "<table border=\"1\" class=\"dataframe\">\n",
       "  <thead>\n",
       "    <tr style=\"text-align: right;\">\n",
       "      <th></th>\n",
       "      <th>Hotel</th>\n",
       "      <th>Point</th>\n",
       "      <th>Country</th>\n",
       "      <th>member</th>\n",
       "      <th>Room type</th>\n",
       "      <th>Date</th>\n",
       "      <th>Review Title</th>\n",
       "      <th>Review Contents</th>\n",
       "      <th>Grade</th>\n",
       "      <th>Year</th>\n",
       "      <th>Month</th>\n",
       "      <th>stay_day</th>\n",
       "    </tr>\n",
       "  </thead>\n",
       "  <tbody>\n",
       "    <tr>\n",
       "      <th>30583</th>\n",
       "      <td>골든 파크 호텔 제주 (Golden Park Hotel Jeju)</td>\n",
       "      <td>8.0</td>\n",
       "      <td>대한민국</td>\n",
       "      <td>나홀로 여행객</td>\n",
       "      <td>룸 (싱글베드 2개, 금연)</td>\n",
       "      <td>2022년 12월 | 2박</td>\n",
       "      <td>가성비 좋은 호텔</td>\n",
       "      <td>['전반적으로 깨끗하고 뚜벅이 여행에 최고좋은 시외버스터미널이 걸어서 5분이라 제주...</td>\n",
       "      <td>1</td>\n",
       "      <td>2022년</td>\n",
       "      <td>12월</td>\n",
       "      <td>2</td>\n",
       "    </tr>\n",
       "  </tbody>\n",
       "</table>\n",
       "</div>"
      ],
      "text/plain": [
       "                                      Hotel  Point Country   member  \\\n",
       "30583  골든 파크 호텔 제주 (Golden Park Hotel Jeju)    8.0    대한민국  나홀로 여행객   \n",
       "\n",
       "             Room type            Date Review Title  \\\n",
       "30583  룸 (싱글베드 2개, 금연)  2022년 12월 | 2박    가성비 좋은 호텔   \n",
       "\n",
       "                                         Review Contents  Grade   Year Month  \\\n",
       "30583  ['전반적으로 깨끗하고 뚜벅이 여행에 최고좋은 시외버스터미널이 걸어서 5분이라 제주...      1  2022년   12월   \n",
       "\n",
       "       stay_day  \n",
       "30583         2  "
      ]
     },
     "execution_count": 27,
     "metadata": {},
     "output_type": "execute_result"
    }
   ],
   "source": [
    "# 대한민국 국적만 가져오기 (36255 -> 30583 )\n",
    "df=df[df['Country'].str.contains('대한민국')]\n",
    "df.reset_index(drop=True,inplace=True)\n",
    "df['Country']='대한민국'\n",
    "df.tail(1)"
   ]
  },
  {
   "cell_type": "code",
   "execution_count": 28,
   "metadata": {},
   "outputs": [
    {
     "data": {
      "text/html": [
       "<div>\n",
       "<style scoped>\n",
       "    .dataframe tbody tr th:only-of-type {\n",
       "        vertical-align: middle;\n",
       "    }\n",
       "\n",
       "    .dataframe tbody tr th {\n",
       "        vertical-align: top;\n",
       "    }\n",
       "\n",
       "    .dataframe thead th {\n",
       "        text-align: right;\n",
       "    }\n",
       "</style>\n",
       "<table border=\"1\" class=\"dataframe\">\n",
       "  <thead>\n",
       "    <tr style=\"text-align: right;\">\n",
       "      <th></th>\n",
       "      <th>Grade</th>\n",
       "      <th>Hotel</th>\n",
       "      <th>Country</th>\n",
       "      <th>Year</th>\n",
       "      <th>Month</th>\n",
       "      <th>stay_day</th>\n",
       "      <th>member</th>\n",
       "      <th>Room type</th>\n",
       "      <th>Date</th>\n",
       "      <th>Review Title</th>\n",
       "      <th>Review Contents</th>\n",
       "      <th>Point</th>\n",
       "    </tr>\n",
       "  </thead>\n",
       "  <tbody>\n",
       "    <tr>\n",
       "      <th>30583</th>\n",
       "      <td>1</td>\n",
       "      <td>골든 파크 호텔 제주 (Golden Park Hotel Jeju)</td>\n",
       "      <td>대한민국</td>\n",
       "      <td>2022년</td>\n",
       "      <td>12월</td>\n",
       "      <td>2</td>\n",
       "      <td>나홀로 여행객</td>\n",
       "      <td>룸 (싱글베드 2개, 금연)</td>\n",
       "      <td>2022년 12월 | 2박</td>\n",
       "      <td>가성비 좋은 호텔</td>\n",
       "      <td>['전반적으로 깨끗하고 뚜벅이 여행에 최고좋은 시외버스터미널이 걸어서 5분이라 제주...</td>\n",
       "      <td>8.0</td>\n",
       "    </tr>\n",
       "  </tbody>\n",
       "</table>\n",
       "</div>"
      ],
      "text/plain": [
       "       Grade                                 Hotel Country   Year Month  \\\n",
       "30583      1  골든 파크 호텔 제주 (Golden Park Hotel Jeju)    대한민국  2022년   12월   \n",
       "\n",
       "       stay_day   member        Room type            Date Review Title  \\\n",
       "30583         2  나홀로 여행객  룸 (싱글베드 2개, 금연)  2022년 12월 | 2박    가성비 좋은 호텔   \n",
       "\n",
       "                                         Review Contents  Point  \n",
       "30583  ['전반적으로 깨끗하고 뚜벅이 여행에 최고좋은 시외버스터미널이 걸어서 5분이라 제주...    8.0  "
      ]
     },
     "execution_count": 28,
     "metadata": {},
     "output_type": "execute_result"
    }
   ],
   "source": [
    "# 컬럼 순서 변경\n",
    "\n",
    "df=df[['Grade','Hotel','Country','Year','Month','stay_day','member','Room type', 'Date','Review Title','Review Contents','Point']]\n",
    "df.tail(1)"
   ]
  },
  {
   "cell_type": "code",
   "execution_count": 29,
   "metadata": {},
   "outputs": [
    {
     "data": {
      "text/html": [
       "<div>\n",
       "<style scoped>\n",
       "    .dataframe tbody tr th:only-of-type {\n",
       "        vertical-align: middle;\n",
       "    }\n",
       "\n",
       "    .dataframe tbody tr th {\n",
       "        vertical-align: top;\n",
       "    }\n",
       "\n",
       "    .dataframe thead th {\n",
       "        text-align: right;\n",
       "    }\n",
       "</style>\n",
       "<table border=\"1\" class=\"dataframe\">\n",
       "  <thead>\n",
       "    <tr style=\"text-align: right;\">\n",
       "      <th></th>\n",
       "      <th>Grade</th>\n",
       "      <th>Hotel</th>\n",
       "      <th>Country</th>\n",
       "      <th>Year</th>\n",
       "      <th>Month</th>\n",
       "      <th>stay_day</th>\n",
       "      <th>member</th>\n",
       "      <th>Room type</th>\n",
       "      <th>Date</th>\n",
       "      <th>Review Title</th>\n",
       "      <th>Review Contents</th>\n",
       "      <th>Point</th>\n",
       "    </tr>\n",
       "  </thead>\n",
       "  <tbody>\n",
       "    <tr>\n",
       "      <th>30583</th>\n",
       "      <td>1</td>\n",
       "      <td>골든 파크 호텔 제주 (Golden Park Hotel Jeju)</td>\n",
       "      <td>대한민국</td>\n",
       "      <td>2022</td>\n",
       "      <td>12</td>\n",
       "      <td>2</td>\n",
       "      <td>나홀로 여행객</td>\n",
       "      <td>룸 (싱글베드 2개, 금연)</td>\n",
       "      <td>2022년 12월 | 2박</td>\n",
       "      <td>가성비 좋은 호텔</td>\n",
       "      <td>['전반적으로 깨끗하고 뚜벅이 여행에 최고좋은 시외버스터미널이 걸어서 5분이라 제주...</td>\n",
       "      <td>8.0</td>\n",
       "    </tr>\n",
       "  </tbody>\n",
       "</table>\n",
       "</div>"
      ],
      "text/plain": [
       "       Grade                                 Hotel Country  Year  Month  \\\n",
       "30583      1  골든 파크 호텔 제주 (Golden Park Hotel Jeju)    대한민국  2022     12   \n",
       "\n",
       "       stay_day   member        Room type            Date Review Title  \\\n",
       "30583         2  나홀로 여행객  룸 (싱글베드 2개, 금연)  2022년 12월 | 2박    가성비 좋은 호텔   \n",
       "\n",
       "                                         Review Contents  Point  \n",
       "30583  ['전반적으로 깨끗하고 뚜벅이 여행에 최고좋은 시외버스터미널이 걸어서 5분이라 제주...    8.0  "
      ]
     },
     "execution_count": 29,
     "metadata": {},
     "output_type": "execute_result"
    }
   ],
   "source": [
    "# 년, 월 숫자만 (2022년 -> 2022)\n",
    "\n",
    "import re\n",
    "\n",
    "def text_num(text):\n",
    "    hangul = re.compile('[^0-9]')\n",
    "    result = hangul.sub('', text)\n",
    "    return result\n",
    "\n",
    "df['Year']=df['Year'].apply(lambda x : text_num(x))\n",
    "df['Month']=df['Month'].apply(lambda x : text_num(x))\n",
    "\n",
    "\n",
    "df['Month']=df['Month'].astype('int')\n",
    "df['Year']=df['Year'].astype('int')\n",
    "df.tail(1)"
   ]
  },
  {
   "cell_type": "code",
   "execution_count": 30,
   "metadata": {},
   "outputs": [
    {
     "data": {
      "text/html": [
       "<div>\n",
       "<style scoped>\n",
       "    .dataframe tbody tr th:only-of-type {\n",
       "        vertical-align: middle;\n",
       "    }\n",
       "\n",
       "    .dataframe tbody tr th {\n",
       "        vertical-align: top;\n",
       "    }\n",
       "\n",
       "    .dataframe thead th {\n",
       "        text-align: right;\n",
       "    }\n",
       "</style>\n",
       "<table border=\"1\" class=\"dataframe\">\n",
       "  <thead>\n",
       "    <tr style=\"text-align: right;\">\n",
       "      <th></th>\n",
       "      <th>Grade</th>\n",
       "      <th>Hotel</th>\n",
       "      <th>Country</th>\n",
       "      <th>Year</th>\n",
       "      <th>Month</th>\n",
       "      <th>stay_day</th>\n",
       "      <th>member</th>\n",
       "      <th>Room type</th>\n",
       "      <th>Date</th>\n",
       "      <th>Review Title</th>\n",
       "      <th>Review Contents</th>\n",
       "      <th>Point</th>\n",
       "    </tr>\n",
       "  </thead>\n",
       "  <tbody>\n",
       "    <tr>\n",
       "      <th>0</th>\n",
       "      <td>5</td>\n",
       "      <td>메종 글래드 제주 (Maison Glad Jeju)</td>\n",
       "      <td>대한민국</td>\n",
       "      <td>2021</td>\n",
       "      <td>5</td>\n",
       "      <td>3</td>\n",
       "      <td>나홀로 여행객</td>\n",
       "      <td>스탠다드 트윈</td>\n",
       "      <td>2021년 5월 | 3박</td>\n",
       "      <td>기대보다 좋았어요</td>\n",
       "      <td>시설이 낡았다는 후기를 보고 별 기대없이 갔는데 박동안 행복하게 보내고 왔습니다 새...</td>\n",
       "      <td>10.0</td>\n",
       "    </tr>\n",
       "  </tbody>\n",
       "</table>\n",
       "</div>"
      ],
      "text/plain": [
       "   Grade                         Hotel Country  Year  Month  stay_day  \\\n",
       "0      5  메종 글래드 제주 (Maison Glad Jeju)    대한민국  2021      5         3   \n",
       "\n",
       "    member Room type           Date Review Title  \\\n",
       "0  나홀로 여행객   스탠다드 트윈  2021년 5월 | 3박    기대보다 좋았어요   \n",
       "\n",
       "                                     Review Contents  Point  \n",
       "0  시설이 낡았다는 후기를 보고 별 기대없이 갔는데 박동안 행복하게 보내고 왔습니다 새...   10.0  "
      ]
     },
     "execution_count": 30,
     "metadata": {},
     "output_type": "execute_result"
    }
   ],
   "source": [
    "# 리뷰 한글만 나오게 전처리\n",
    "\n",
    "\n",
    "import re\n",
    "\n",
    "def text_cleaning(text):\n",
    "    hangul = re.compile('[^ ㄱ-ㅣ가-힣]+')\n",
    "    result = hangul.sub('', text)\n",
    "    return result\n",
    "\n",
    "df['Review Title']=df['Review Title'].apply(lambda x : text_cleaning(x))\n",
    "df['Review Contents']=df['Review Contents'].apply(lambda x : text_cleaning(x))\n",
    "df.head(1)\n",
    "\n"
   ]
  },
  {
   "cell_type": "code",
   "execution_count": 31,
   "metadata": {},
   "outputs": [],
   "source": [
    "df.to_csv('./hotel.csv',index=0)"
   ]
  },
  {
   "cell_type": "code",
   "execution_count": null,
   "metadata": {},
   "outputs": [],
   "source": []
  }
 ],
 "metadata": {
  "kernelspec": {
   "display_name": "ds_study",
   "language": "python",
   "name": "python3"
  },
  "language_info": {
   "codemirror_mode": {
    "name": "ipython",
    "version": 3
   },
   "file_extension": ".py",
   "mimetype": "text/x-python",
   "name": "python",
   "nbconvert_exporter": "python",
   "pygments_lexer": "ipython3",
   "version": "3.8.15"
  },
  "orig_nbformat": 4,
  "vscode": {
   "interpreter": {
    "hash": "46710656acb077b120e55da28a6f171aae3ac9734089ab541324b1e08dfc8d55"
   }
  }
 },
 "nbformat": 4,
 "nbformat_minor": 2
}
